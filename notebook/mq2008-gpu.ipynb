{
 "cells": [
  {
   "cell_type": "raw",
   "metadata": {},
   "source": [
    "# This is an example of learning to rank in XGBoost, including the whole pipeline on GPU"
   ]
  },
  {
   "cell_type": "code",
   "execution_count": 1,
   "metadata": {},
   "outputs": [],
   "source": [
    "import ml.dmlc.xgboost4j.scala.spark.{XGBoostRegressor, XGBoostRegressionModel}\n",
    "import org.apache.spark.ml.evaluation.RegressionEvaluator\n",
    "import org.apache.spark.sql.types.{FloatType, IntegerType, StructField, StructType}\n",
    "import org.apache.spark.sql.SparkSession\n",
    "import ml.dmlc.xgboost4j.scala.spark.rapids.{GpuDataReader, GpuDataset}"
   ]
  },
  {
   "cell_type": "code",
   "execution_count": 2,
   "metadata": {},
   "outputs": [
    {
     "data": {
      "text/plain": [
       "trainPath = /data/rank/csv/mq2008.train\n",
       "testPath = /data/rank/csv/mq2008.test\n"
      ]
     },
     "metadata": {},
     "output_type": "display_data"
    },
    {
     "data": {
      "text/plain": [
       "/data/rank/csv/mq2008.test"
      ]
     },
     "execution_count": 2,
     "metadata": {},
     "output_type": "execute_result"
    }
   ],
   "source": [
    "// Data paths\n",
    "val trainPath = \"/data/rank/csv/mq2008.train\"\n",
    "val testPath  = \"/data/rank/csv/mq2008.test\""
   ]
  },
  {
   "cell_type": "code",
   "execution_count": 3,
   "metadata": {},
   "outputs": [
    {
     "data": {
      "text/plain": [
       "paramMap = <lazy>\n"
      ]
     },
     "metadata": {},
     "output_type": "display_data"
    },
    {
     "data": {
      "text/plain": [
       "<lazy>"
      ]
     },
     "execution_count": 3,
     "metadata": {},
     "output_type": "execute_result"
    }
   ],
   "source": [
    "// Training parameters\n",
    "lazy val paramMap = Map(\n",
    "  \"objective\" -> \"rank:pairwise\",\n",
    "  \"eta\" -> 0.1,\n",
    "  \"min_child_weight\" -> 0.1,\n",
    "  \"gamma\" -> 1.0,\n",
    "  \"max_depth\" -> 6,\n",
    "  \"num_round\" -> 4,\n",
    "  \"missing\" -> 0.0\n",
    ")"
   ]
  },
  {
   "cell_type": "code",
   "execution_count": 4,
   "metadata": {},
   "outputs": [
    {
     "data": {
      "text/plain": [
       "labelName = label\n",
       "groupName = group\n"
      ]
     },
     "metadata": {},
     "output_type": "display_data"
    },
    {
     "data": {
      "text/plain": [
       "featureNames: Seq[String]\n",
       "schema: org.apache.spark.sql.types.StructType\n"
      ]
     },
     "metadata": {},
     "output_type": "display_data"
    },
    {
     "data": {
      "text/plain": [
       "group"
      ]
     },
     "execution_count": 4,
     "metadata": {},
     "output_type": "execute_result"
    }
   ],
   "source": [
    "// Define column names and schema\n",
    "val labelName = \"label\"\n",
    "val groupName = \"group\"\n",
    "def featureNames: Seq[String] = (0 until 46).map(i => s\"feature_$i\")\n",
    "\n",
    "def schema: StructType = StructType(\n",
    "  Seq(\n",
    "    StructField(labelName, FloatType),\n",
    "    StructField(groupName, IntegerType)\n",
    "  ) ++ featureNames.map(name =>\n",
    "    StructField(name, FloatType)\n",
    "  )\n",
    ")"
   ]
  },
  {
   "cell_type": "code",
   "execution_count": 5,
   "metadata": {},
   "outputs": [
    {
     "data": {
      "text/plain": [
       "spark = org.apache.spark.sql.SparkSession@39b7b2e7\n",
       "reader = ml.dmlc.xgboost4j.scala.spark.rapids.GpuDataReader@58903ce0\n",
       "trainSet = ml.dmlc.xgboost4j.scala.spark.rapids.GpuDataset@4a9d2d21\n",
       "testSet = ml.dmlc.xgboost4j.scala.spark.rapids.GpuDataset@14470417\n",
       "xgbParamFinal = Map(min_child_weight -> 0.1, num_workers -> 1, max_depth -> 6, objective -> rank:pairwise, num_round -> 4, missing -> 0.0, tree_method -> gpu_hist, eta -> 0.1, gamma -> 1.0)\n",
       "xgbRegressor = xgbr_501baa77765b\n"
      ]
     },
     "metadata": {},
     "output_type": "display_data"
    },
    {
     "data": {
      "text/plain": [
       "xgbr_501baa77765b"
      ]
     },
     "execution_count": 5,
     "metadata": {},
     "output_type": "execute_result"
    }
   ],
   "source": [
    "// Create spark session and build XGBoost XGBoostRegressor\n",
    "val spark = SparkSession.builder().appName(\"MQ2008-GPU\").getOrCreate\n",
    "// === diff ===\n",
    "val reader = new GpuDataReader(spark).schema(schema).option(\"header\", false)\n",
    "// === diff ===\n",
    "val (trainSet, testSet) = (reader.csv(trainPath), reader.csv(testPath))\n",
    "\n",
    "val xgbParamFinal = paramMap ++ Map(\"tree_method\" -> \"gpu_hist\", \"num_workers\" -> 1)\n",
    "val xgbRegressor = new XGBoostRegressor(xgbParamFinal)\n",
    "  .setLabelCol(labelName)\n",
    "  .setGroupCol(groupName)\n",
    "  // === diff ===\n",
    "  .setFeaturesCols(featureNames)"
   ]
  },
  {
   "cell_type": "code",
   "execution_count": 6,
   "metadata": {},
   "outputs": [
    {
     "name": "stdout",
     "output_type": "stream",
     "text": [
      "Tracker started, with env={DMLC_NUM_SERVER=0, DMLC_TRACKER_URI=10.19.183.78, DMLC_TRACKER_PORT=9092, DMLC_NUM_WORKER=1}\n",
      "Elapsed time [train]: 5.889s\n"
     ]
    },
    {
     "data": {
      "text/plain": [
       "defined object Benchmark\n",
       "model = xgbr_501baa77765b\n"
      ]
     },
     "metadata": {},
     "output_type": "display_data"
    },
    {
     "data": {
      "text/plain": [
       "xgbr_501baa77765b"
      ]
     },
     "execution_count": 6,
     "metadata": {},
     "output_type": "execute_result"
    }
   ],
   "source": [
    "object Benchmark {\n",
    "  def time[R](phase: String)(block: => R): (R, Float) = {\n",
    "    val t0 = System.currentTimeMillis\n",
    "    val result = block // call-by-name\n",
    "    val t1 = System.currentTimeMillis\n",
    "    println(\"Elapsed time [\" + phase + \"]: \" + ((t1 - t0).toFloat / 1000) + \"s\")\n",
    "    (result, (t1 - t0).toFloat / 1000)\n",
    "  }\n",
    "}\n",
    "\n",
    "// start training to rank\n",
    "val (model, _) = Benchmark.time(\"train\") {\n",
    "  xgbRegressor.fit(trainSet)\n",
    "}"
   ]
  },
  {
   "cell_type": "code",
   "execution_count": 7,
   "metadata": {},
   "outputs": [
    {
     "name": "stdout",
     "output_type": "stream",
     "text": [
      "Elapsed time [transform]: 2.459s\n",
      "+-----+-----------+---------+----------+-------------------+\n",
      "|label|  feature_0|feature_1| feature_2|         prediction|\n",
      "+-----+-----------+---------+----------+-------------------+\n",
      "|  0.0|0.052892998|      1.0|      0.75| 0.5653607249259949|\n",
      "|  0.0|   0.004959|      0.0|      0.25| 0.1805700957775116|\n",
      "|  0.0|   0.066116|     0.75|      0.25| 0.7334920167922974|\n",
      "|  1.0|0.026445998|     0.75|      0.75| 0.4991956353187561|\n",
      "|  0.0|0.029752001|      0.0|       1.0| 0.5998898148536682|\n",
      "|  0.0|   0.066116|      0.0|      0.25| 0.6417648792266846|\n",
      "|  0.0|        0.0|      0.0|      0.25| 0.1651393175125122|\n",
      "|  0.0|        1.0|      0.0|       0.0| 0.3046388328075409|\n",
      "|  0.0|   0.003865| 0.142857|0.33333302|0.23630934953689575|\n",
      "|  0.0|   0.008835| 0.142857|0.33333302| 0.2636098563671112|\n",
      "+-----+-----------+---------+----------+-------------------+\n",
      "only showing top 10 rows\n",
      "\n",
      "Elapsed time [evaluation]: 0.131s\n",
      "RMSE == 0.5501281048266939\n"
     ]
    },
    {
     "data": {
      "text/plain": [
       "prediction = [label: float, group: float ... 47 more fields]\n",
       "evaluator = regEval_2284e7141b4a\n",
       "rmse = 0.5501281048266939\n"
      ]
     },
     "metadata": {},
     "output_type": "display_data"
    },
    {
     "data": {
      "text/plain": [
       "0.5501281048266939"
      ]
     },
     "execution_count": 7,
     "metadata": {},
     "output_type": "execute_result"
    }
   ],
   "source": [
    "// start transform and evaluation\n",
    "val (prediction, _) = Benchmark.time(\"transform\") {\n",
    "  val ret = model.transform(testSet).cache()\n",
    "  ret.foreachPartition(_ => ())\n",
    "  ret\n",
    "}\n",
    "prediction.select(\"label\", \"feature_0\", \"feature_1\", \"feature_2\", \"prediction\").show(10)\n",
    "\n",
    "val evaluator = new RegressionEvaluator().setLabelCol(labelName)\n",
    "val (rmse, _) = Benchmark.time(\"evaluation\") {\n",
    "  evaluator.evaluate(prediction)\n",
    "}\n",
    "println(s\"RMSE == $rmse\")"
   ]
  },
  {
   "cell_type": "code",
   "execution_count": 8,
   "metadata": {},
   "outputs": [
    {
     "name": "stdout",
     "output_type": "stream",
     "text": [
      "Elapsed time [transform2]: 0.173s\n",
      "+-----+-----------+---------+----------+-------------------+\n",
      "|label|  feature_0|feature_1| feature_2|         prediction|\n",
      "+-----+-----------+---------+----------+-------------------+\n",
      "|  0.0|0.052892998|      1.0|      0.75| 0.5653607249259949|\n",
      "|  0.0|   0.004959|      0.0|      0.25| 0.1805700957775116|\n",
      "|  0.0|   0.066116|     0.75|      0.25| 0.7334920167922974|\n",
      "|  1.0|0.026445998|     0.75|      0.75| 0.4991956353187561|\n",
      "|  0.0|0.029752001|      0.0|       1.0| 0.5998898148536682|\n",
      "|  0.0|   0.066116|      0.0|      0.25| 0.6417648792266846|\n",
      "|  0.0|        0.0|      0.0|      0.25| 0.1651393175125122|\n",
      "|  0.0|        1.0|      0.0|       0.0| 0.3046388328075409|\n",
      "|  0.0|   0.003865| 0.142857|0.33333302|0.23630934953689575|\n",
      "|  0.0|   0.008835| 0.142857|0.33333302| 0.2636098563671112|\n",
      "+-----+-----------+---------+----------+-------------------+\n",
      "only showing top 10 rows\n",
      "\n"
     ]
    },
    {
     "data": {
      "text/plain": [
       "modelFromDisk = xgbr_501baa77765b\n",
       "prediction2 = [label: float, group: float ... 47 more fields]\n"
      ]
     },
     "metadata": {},
     "output_type": "display_data"
    },
    {
     "data": {
      "text/plain": [
       "[label: float, group: float ... 47 more fields]"
      ]
     },
     "execution_count": 8,
     "metadata": {},
     "output_type": "execute_result"
    }
   ],
   "source": [
    "// model save and load\n",
    "model.write.overwrite.save(\"/data/model/rank/gpu\")\n",
    "\n",
    "val modelFromDisk = XGBoostRegressionModel.load(\"/data/model/rank/gpu\")\n",
    "val (prediction2, _) = Benchmark.time(\"transform2\") {\n",
    "  val ret = modelFromDisk.transform(testSet)\n",
    "  ret.foreachPartition(_ => ())\n",
    "  ret\n",
    "}\n",
    "prediction2.select(\"label\", \"feature_0\", \"feature_1\", \"feature_2\", \"prediction\").show(10)"
   ]
  },
  {
   "cell_type": "code",
   "execution_count": 9,
   "metadata": {},
   "outputs": [],
   "source": [
    "spark.close()"
   ]
  },
  {
   "cell_type": "code",
   "execution_count": null,
   "metadata": {},
   "outputs": [],
   "source": []
  }
 ],
 "metadata": {
  "kernelspec": {
   "display_name": "lilc - Scala",
   "language": "scala",
   "name": "lilc_scala"
  },
  "language_info": {
   "codemirror_mode": "text/x-scala",
   "file_extension": ".scala",
   "mimetype": "text/x-scala",
   "name": "scala",
   "pygments_lexer": "scala",
   "version": "2.11.12"
  }
 },
 "nbformat": 4,
 "nbformat_minor": 2
}
